{
 "cells": [
  {
   "cell_type": "markdown",
   "metadata": {},
   "source": [
    "# Classification de documents : prise en main des outils\n",
    "\n",
    "Le but de ce TP est de classer des documents textuels... Dans un premier temps, nous allons vérifier le bon fonctionnement des outils sur des données jouets puis appliquer les concepts sur des données réelles.\n",
    "\n",
    "\n",
    "## Conception de la chaine de traitement\n",
    "Pour rappel, une chaine de traitement de documents classique est composée des étapes suivantes:\n",
    "1. Lecture des données et importation\n",
    "    - Dans le cadre de nos TP, nous faisons l'hypothèse que le alltxts tient en mémoire... Si ce n'est pas le cas, il faut alors ajouter des structures de données avec des buffers (*data-reader*), bien plus complexes à mettre en place.\n",
    "    - Le plus grand piège concerne l'encodage des données. Dans le TP... Pas (ou peu) de problème. Dans la vraie vie: il faut faire attention à toujours maitriser les formats d'entrée et de sortie.\n",
    "1. Traitement des données brutes paramétrique. Chaque traitement doit être activable ou desactivable + paramétrable si besoin.\n",
    "    - Enlever les informations *inutiles* : chiffre, ponctuations, majuscules, etc... <BR>\n",
    "    **L'utilité dépend de l'application!**\n",
    "    - Segmenter en mots (=*Tokenization*)\n",
    "    - Elimination des stop-words\n",
    "    - Stemming/lemmatisation (racinisation)\n",
    "    - Byte-pair encoding pour trouver les mots composés (e.g. Sorbonne Université, Ville de Paris, Premier Ministre, etc...)\n",
    "1. Traitement des données numériques\n",
    "    - Normalisation *term-frequency* / binarisation\n",
    "    - Normalisation *inverse document frequency*\n",
    "    - Elimination des mots rares, des mots trop fréquents\n",
    "    - Construction de critère de séparabilité pour éliminer des mots etc...\n",
    "1. Apprentissage d'un classifieur\n",
    "    - Choix du type de classifieur\n",
    "    - Réglage des paramètres du classifieur (régularisation, etc...)\n",
    "\n",
    "## Exploitation de la chaine de traitement\n",
    "\n",
    "On appelle cette étape la réalisation d'une campagne d'expériences: c'est le point clé que nous voulons traviller en TAL cette année.\n",
    "1. Il est impossible de tester toutes les combinaisons par rapport aux propositions ci-dessus... Il faut donc en éliminer un certain nombre.\n",
    "    - En discutant avec les experts métiers\n",
    "    - En faisant des tests préliminaires\n",
    "1. Après ce premier filtrage, il faut:\n",
    "    - Choisir une évaluation fiable et pas trop lente (validation croisée, leave-one-out, split apprentissage/test simple)\n",
    "    - Lancer des expériences en grand\n",
    "        - = *grid-search*\n",
    "        - parallèliser sur plusieurs machines\n",
    "        - savoir lancer sur un serveur et se déconnecter\n",
    "1. Collecter et analyser les résultats\n",
    "\n",
    "\n",
    "## Inférence\n",
    "\n",
    "L'inférence est ensuite très classique: la chaine de traitement optimale est apte à traiter de nouveaux documents\n",
    "\n",
    "# Etape 1: charger les données"
   ]
  },
  {
   "cell_type": "code",
   "execution_count": 1,
   "metadata": {},
   "outputs": [
    {
     "data": {
      "text/plain": [
       "'\\nimport nltk \\nfrom nltk import sent_tokenize\\nfrom nltk import word_tokenize'"
      ]
     },
     "execution_count": 1,
     "metadata": {},
     "output_type": "execute_result"
    }
   ],
   "source": [
    "\n",
    "from collections import Counter\n",
    "\n",
    "import numpy as np\n",
    "import matplotlib.pyplot as plt\n",
    "%matplotlib inline\n",
    "\n",
    "import codecs\n",
    "import re\n",
    "import os.path\n",
    "\n",
    "from sklearn.model_selection import train_test_split\n",
    "\"\"\"\n",
    "import nltk \n",
    "from nltk import sent_tokenize\n",
    "from nltk import word_tokenize\"\"\""
   ]
  },
  {
   "cell_type": "code",
   "execution_count": 3,
   "metadata": {},
   "outputs": [],
   "source": [
    "# Chargement des données:\n",
    "def load_pres(fname):\n",
    "    alltxts = []\n",
    "    alllabs = []\n",
    "    s=codecs.open(fname, 'r','utf-8') # pour régler le codage\n",
    "    while True:\n",
    "        txt = s.readline()\n",
    "        if(len(txt))<5:\n",
    "            break\n",
    "        #\n",
    "        lab = re.sub(r\"<[0-9]*:[0-9]*:(.)>.*\",\"\\\\1\",txt)\n",
    "        txt = re.sub(r\"<[0-9]*:[0-9]*:.>(.*)\",\"\\\\1\",txt)\n",
    "        if lab.count('M') >0:\n",
    "            alllabs.append(-1)\n",
    "        else: \n",
    "            alllabs.append(1)\n",
    "        alltxts.append(txt)\n",
    "    return alltxts,alllabs\n",
    "\n",
    "\n"
   ]
  },
  {
   "cell_type": "markdown",
   "metadata": {},
   "source": [
    "#### IMPORTER LES DEUX DATASET: test and test "
   ]
  },
  {
   "cell_type": "code",
   "execution_count": null,
   "metadata": {},
   "outputs": [],
   "source": [
    "#fname = \"ressources\\AFDpresidentutf8\\corpus.tache1.learn.utf8\"\n",
    "path_train= r\"C:\\Users\\actou\\OneDrive\\Documents\\IODAA\\ONTO-TAL\\TAL\\tuto_TAL-main\\notebooks\\ressources\\AFDpresidentutf8\\corpus.tache1.learn.utf8\"\n",
    "train_alltxts,train_alllabs = load_pres(path_train)\n",
    "\n",
    "print(\"la longueur du training data_set est de:\",len(train_alltxts),len(train_alllabs))\n",
    "print(train_alltxts[0])\n",
    "print(train_alllabs[0])\n",
    "print(train_alltxts[-1])\n",
    "print(train_alllabs[-1])\n",
    "\n",
    "path_test= r\"C:\\Users\\actou\\OneDrive\\Documents\\IODAA\\ONTO-TAL\\TAL\\tuto_TAL-main\\notebooks\\ressources\\AFDpresidentutf8\\corpus.tache1.test.utf8\"\n",
    "#text = open(\"ressources/AFDpresidentutf8/corpus.tache1.test.utf8\",encoding=\"utf-8\")\n",
    "test_alltxts,test_alllabs = load_pres(path_test)\n",
    "\n",
    "print(\"la longueur du data_set test est de:\",len(test_alltxts),len(test_alllabs))\n",
    "print(test_alltxts[0])\n",
    "print(test_alllabs[10])\n",
    "print(test_alltxts[-1])\n",
    "print(test_alllabs[1000])\n"
   ]
  },
  {
   "cell_type": "markdown",
   "metadata": {},
   "source": [
    "\n",
    "\n",
    "Vous devez tester, par exemple, les cas suivants:\n",
    "- transformation en minuscule ou pas\n",
    "- suppression de la ponctuation\n",
    "- transformation des mots entièrement en majuscule en marqueurs spécifiques\n",
    "- suppression des chiffres ou pas\n",
    "- conservation d'une partie du texte seulement (seulement la première ligne = titre, seulement la dernière ligne = résumé, ...)\n",
    "- stemming\n",
    "- ...\n",
    "\n",
    "\n",
    "Vérifier systématiquement sur un exemple ou deux le bon fonctionnement des méthodes sur deux documents (au moins un de chaque classe)."
   ]
  },
  {
   "cell_type": "code",
   "execution_count": 22,
   "metadata": {},
   "outputs": [
    {
     "name": "stdout",
     "output_type": "stream",
     "text": [
      "40189\n",
      "17224\n"
     ]
    }
   ],
   "source": [
    " from collections import Counter\n",
    "'''\n",
    "counter_train = Counter((x[1] for x in train_alltxts))\n",
    "counter_test = Counter((x[1] for x in test_alltxts))\n",
    "\n",
    "print(\"Number of train reviews : \", len(train_alltxts))\n",
    "print(\"----> # of positive : \", counter_train[1])\n",
    "print(\"----> # of negative : \", counter_train[0])\n",
    "print(\"\")\n",
    "print(train_alllabs[0])\n",
    "\n",
    "print(\"\")\n",
    "print(\"Number of test reviews : \",len(test_alllabs))\n",
    "print(\"----> # of positive : \", counter_test[1])\n",
    "print(\"----> # of negative : \", counter_test[0])\n",
    "\n",
    "print(\"\")\n",
    "print(test_alllabs[0])\n",
    "print(\"\")\n",
    "''' \n",
    "\n",
    "\n",
    "from sklearn.model_selection import train_test_split\n",
    "traintxts, testtxts, trainlabs, testlabs = train_test_split(train_alltxts, train_alllabs, test_size=0.3, random_state=0) \n",
    "print(len(traintxts))\n",
    "print(len(testtxts))\n"
   ]
  },
  {
   "cell_type": "code",
   "execution_count": null,
   "metadata": {},
   "outputs": [],
   "source": [
    "''' # Let's plot the count of the 1000 most used words:\n",
    "pres_train=open(\"ressources/AFDpresidentutf8/alltxts.tache1.learn.utf8\")\n",
    "lines_train=pres_train.readlines()\n",
    "pres_test=open(\"ressources/AFDpresidentutf8/alltxts.tache1.test.utf8\")\n",
    "lines_test=pres_test.readlines()\n",
    "\n",
    "import matplotlib.pyplot as plt\n",
    "%matplotlib inline\n",
    "from collections import Counter \n",
    "\n",
    "wc = Counter()\n",
    "for text,pol in lines_train+lines_train:\n",
    "    wc.update(text.split(\" \"))\n",
    "    \n",
    "freq = [f for w,f in wc.most_common(100)]\n",
    "\n",
    "plt.plot(freq[:100])\n",
    "print(wc.most_common(19)) ## enlever les 19 premiers \n",
    "'''"
   ]
  },
  {
   "cell_type": "markdown",
   "metadata": {},
   "source": [
    "### 3 - Transformation paramétrique du texte\n",
    "- 1 - Supprimer la ponctuation \n",
    "- 2 - Mettre en minuscule \\\n",
    "- 3 - Supprimer les nombres # semble inutile pour les nombres \n",
    "- 4 - Supprimer les accents \n",
    "- 5 - Normaliser les caractères "
   ]
  },
  {
   "cell_type": "code",
   "execution_count": 81,
   "metadata": {},
   "outputs": [
    {
     "name": "stdout",
     "output_type": "stream",
     "text": [
      " et puisque nous nous connaissons depuis quelques trente cinq ans nous avons donc trente cinq ans de plus vous et moi\n",
      "\n"
     ]
    }
   ],
   "source": [
    "import string\n",
    "import re\n",
    "import unicodedata\n",
    "def pretraitement(string):\n",
    "    punc = '''!()-[]{};:'\"\\,<>./?@#$%^&*_~'''\n",
    "    for element in string:  \n",
    "        if element in punc:  \n",
    "            string = string.replace(element, \"\") \n",
    "            string = string.lower()\n",
    "            string = re.sub('[0-9]+', '', string)\n",
    "            string = unicodedata.normalize('NFD',string).encode('ascii', 'ignore').decode(\"utf-8\")\n",
    "    return string\n",
    "    \n",
    "traintxts= [pretraitement(i) for i in train_alltxts]\n",
    "print(traintxts[20]) # cleaned list"
   ]
  },
  {
   "cell_type": "markdown",
   "metadata": {},
   "source": [
    "### 4 - Extraction du vocabulaire\n",
    "\n",
    "Exploration préliminaire des jeux de données.\n",
    "\n",
    "- 1- Quelle est la taille d'origine du vocabulaire?\n",
    "- 2-  Que reste-t-il si on ne garde que les 100 mots les plus fréquents? [word cloud]\n",
    "- 3 - Quels sont les 100 mots dont la fréquence documentaire est la plus grande? [word cloud]\n",
    "- 4 - Quels sont les 100 mots les plus discriminants au sens de odds ratio? [word cloud]\n",
    "- 5 - Quelle est la distribution d'apparition des mots (Zipf)\n",
    "- 6 -Quels sont les 100 bigrammes/trigrammes les plus fréquents?"
   ]
  },
  {
   "cell_type": "markdown",
   "metadata": {},
   "source": [
    "###  2 - Mots les plus fréquents (quel nombre choisir?)"
   ]
  },
  {
   "cell_type": "code",
   "execution_count": 83,
   "metadata": {},
   "outputs": [
    {
     "data": {
      "image/png": "[encoded data removed]",
      "text/plain": [
       "<Figure size 1000x1200 with 4 Axes>"
      ]
     },
     "metadata": {},
     "output_type": "display_data"
    }
   ],
   "source": [
    "### Let's plot the count of the 1000 most used words:\n",
    "plt.figure(2,figsize=(10,12))\n",
    "plt.gcf().subplots_adjust(left = 0.125, bottom = 0.2, right = 1.5,\n",
    "                          top = 0.9, wspace = 0.5, hspace = 0)\n",
    "\n",
    "\n",
    "liste_most_50_common=[mot for mot,freq in dico.most_common(50)]\n",
    "liste_freq_50= [freq for mot,freq in dico.most_common(100)]\n",
    "plt.subplot(2,2,1)\n",
    "plt.plot(liste_freq_50[:1000],color='red')\n",
    "plt.title('50 mots les plus frequents')\n",
    "\n",
    "liste_most_100_common=[mot for mot,freq in dico.most_common(100)]\n",
    "liste_freq_100= [freq for mot,freq in dico.most_common(100)]\n",
    "plt.subplot(2,2,2)\n",
    "plt.plot(liste_freq_100[:1000],color='blue')\n",
    "plt.title('100 mots les plus frequents ')\n",
    "\n",
    "\n",
    "liste_most_common=[mot for mot,freq in dico.most_common(500)]\n",
    "liste_freq= [freq for mot,freq in dico.most_common(500)]\n",
    "plt.subplot(2,2,3)\n",
    "plt.plot(liste_freq_100[:1000],color='black')\n",
    "plt.title('500 mots les plus frequents ')\n",
    "\n",
    "liste_most_1000_common=[mot for mot,freq in dico.most_common(1000)]\n",
    "liste_freq_1000= [freq for mot,freq in dico.most_common(1000)]\n",
    "plt.subplot(2,2,4)\n",
    "plt.plot(liste_freq_1000[:1000],color='b')\n",
    "plt.title('1000 mots les plus frequents ')\n",
    "\n",
    "##CHOIX \n",
    "liste_most_common = [mot for mot,freq in dico.most_common(500)]\n",
    "mostfreq=np.array((dico.most_common(500)))"
   ]
  },
  {
   "cell_type": "code",
   "execution_count": 95,
   "metadata": {},
   "outputs": [
    {
     "name": "stdout",
     "output_type": "stream",
     "text": [
      " \n",
      "Supprimer les stop word (500 mots les plus frequents\n",
      "    --> la taille du dictionnaire est (31455,)\n",
      " \n",
      "Tester plusieurs valeurs de max_df et  min_df\n",
      "    --> Min.df = 7 et Max df = 0.005 --> la taille du dictionnaire est (8909,)\n",
      " \n",
      "Tester plusieurs valeurs de max_df et  min_df\n",
      "    --> Min.df = 7 et Max df = 0.05 --> la taille du dictionnaire est (9101,)\n",
      " \n",
      "Tester plusieurs valeurs de max_df et  min_df\n",
      "    --> Min.df = 15 et Max df = 0.005 --> la taille du dictionnaire est (9101,)\n",
      " \n",
      "Enlever les stop_word + Tester valeurs de max_df et  min_df\n",
      "    --> Min.df = 7 et Max df = 0.005 --> la taille du dictionnaire est (8620,)\n"
     ]
    }
   ],
   "source": [
    "# CountVectorizer can take a list of stop words as argument.\n",
    "# Build or download a list of stop word (from NLTK for exemple)\n",
    "#stop_words = [\"the\", \"a\", \"and\"] #Make a better list\n",
    "#stop_words = [w for w , n in wc.most_common(19)] ### rmv les stopwords\n",
    "stop_words = mostfreq[:,0].tolist()\n",
    "\n",
    "\n",
    "vectorizer_1  = CountVectorizer(stop_words=stop_words)\n",
    "X1= vectorizer_1.fit_transform(traintxts)\n",
    "#print(vectorizer_1.get_feature_names()[:10]) # we only print a few\n",
    "dic_size = np.shape(X1.toarray()[1])\n",
    "#print(X4.toarray())\n",
    "#print(X4.shape)\n",
    "#print(len(alllabs))\n",
    "print(\" \")\n",
    "print(\"Supprimer les stop word (500 mots les plus frequents\")\n",
    "print(\"    --> la taille du dictionnaire est\",dic_size)\n",
    "\n",
    "vectorizer_2  = CountVectorizer(max_df=0.005, min_df=7)\n",
    "X2= vectorizer_2.fit_transform(traintxts)\n",
    "dic_size = np.shape(X2.toarray()[1])\n",
    "print(\" \")\n",
    "print(\"Tester plusieurs valeurs de max_df et  min_df\")\n",
    "print(\"    --> Min.df = 7 et Max df = 0.005 --> la taille du dictionnaire est\",dic_size)\n",
    "\n",
    "vectorizer_3  = CountVectorizer(max_df=0.05, min_df=7)\n",
    "X3= vectorizer_3.fit_transform(traintxts)\n",
    "dic_size = np.shape(X3.toarray()[1])\n",
    "print(\" \")\n",
    "print(\"Tester plusieurs valeurs de max_df et  min_df\")\n",
    "print(\"    --> Min.df = 7 et Max df = 0.05 --> la taille du dictionnaire est\",dic_size)\n",
    "\n",
    "vectorizer_4  = CountVectorizer(max_df=0.005, min_df=15)\n",
    "X3= vectorizer_3.fit_transform(traintxts)\n",
    "dic_size = np.shape(X3.toarray()[1])\n",
    "print(\" \")\n",
    "print(\"Tester plusieurs valeurs de max_df et  min_df\")\n",
    "print(\"    --> Min.df = 15 et Max df = 0.005 --> la taille du dictionnaire est\",dic_size)\n",
    "\n",
    "vectorizer_4  = CountVectorizer(stop_words=stop_words,max_df=0.005, min_df=7)\n",
    "X4= vectorizer_4.fit_transform(traintxts)\n",
    "dic_size = np.shape(X4.toarray()[1])\n",
    "print(\" \")\n",
    "print(\"Enlever les stop_word + Tester valeurs de max_df et  min_df\")\n",
    "print(\"    --> Min.df = 7 et Max df = 0.005 --> la taille du dictionnaire est\",dic_size)\n"
   ]
  },
  {
   "cell_type": "markdown",
   "metadata": {},
   "source": [
    "Quels sont les 100 mots dont la fréquence documentaire est la plus grande? [word cloud]\n",
    "- Quels sont les 100 mots les plus discriminants au sens de odds ratio? [word cloud]\n",
    "- Quelle est la distribution d'apparition des mots (Zipf)\n",
    "- Quels sont les 100 bigrammes/trigrammes les plus fréquents?\n"
   ]
  },
  {
   "cell_type": "markdown",
   "metadata": {},
   "source": [
    "Question qui devient de plus en plus intéressante avec les approches modernes:\n",
    "est-il possible d'extraire des tri-grammes de lettres pour représenter nos documents?\n",
    "\n",
    "Quelle performances attendrent? Quels sont les avantages et les inconvénients d'une telle approche?"
   ]
  },
  {
   "cell_type": "code",
   "execution_count": 38,
   "metadata": {},
   "outputs": [
    {
     "name": "stderr",
     "output_type": "stream",
     "text": [
      "C:\\Users\\actou\\AppData\\Local\\Packages\\PythonSoftwareFoundation.Python.3.10_qbz5n2kfra8p0\\LocalCache\\local-packages\\Python310\\site-packages\\sklearn\\utils\\deprecation.py:87: FutureWarning: Function get_feature_names is deprecated; get_feature_names is deprecated in 1.0 and will be removed in 1.2. Please use get_feature_names_out instead.\n",
      "  warnings.warn(msg, category=FutureWarning)\n"
     ]
    },
    {
     "name": "stdout",
     "output_type": "stream",
     "text": [
      "['60ème', 'aaron', 'ab', 'abaissaient', 'abaissant', 'abaisse', 'abaissement', 'abaisser', 'abandon', 'abandonne', 'abandonnee', 'abandonnees', 'abandonnent', 'abandonner', 'abandonnerai', 'abandonnes', 'abattage', 'abattait', 'abattre', 'abattu', 'abattues', 'abbayeauxdames', 'abbayeauxhommes', 'abbayes', 'abbes', 'abc', 'abces', 'abdication', 'abdiquer', 'abdou', 'abdulaziz', 'aberrant', 'aberration', 'aberrations', 'abibac', 'abidjan', 'abime', 'abimee', 'abimer', 'abimes', 'abject', 'abm', 'abnegation', 'abois', 'abolie', 'abolir', 'abolirait', 'abolissent', 'abolit', 'abominable', 'abominables', 'abondamment', 'abondance', 'abondante', 'abondantes', 'abonde', 'abondent', 'abonder', 'abord', 'abordant', 'aborde', 'abordee', 'abordees', 'abordent', 'aborder', 'abordera', 'aborderait', 'aborderatil', 'aborderons', 'aborderont', 'abordes', 'abordez', 'abordions', 'abordons', 'abordonsle', 'abords', 'abouti', 'aboutir', 'aboutissait', 'aboutissant', 'aboutisse', 'aboutissement', 'aboutissements', 'aboutissent', 'aboutissions', 'aboutit', 'abraham', 'abri', 'abrite', 'abritees', 'abritent', 'abriter', 'abritez', 'abroge', 'abscons', 'absence', 'absent', 'absente', 'absentes', 'absents']\n",
      "[[0 0 0 ... 0 0 0]\n",
      " [0 0 0 ... 0 0 0]\n",
      " [0 0 0 ... 0 0 0]\n",
      " ...\n",
      " [0 0 0 ... 0 0 0]\n",
      " [0 0 0 ... 0 0 0]\n",
      " [0 0 0 ... 0 0 0]]\n",
      "(57413, 31914)\n",
      "57413\n"
     ]
    }
   ],
   "source": [
    "from sklearn.feature_extraction.text import CountVectorizer\n",
    "\n",
    "vectorizer = CountVectorizer(stop_words = liste_most_common)\n",
    "X = vectorizer.fit_transform(alltxts) \n",
    "print(vectorizer.get_feature_names()[:100])\n"
   ]
  },
  {
   "cell_type": "markdown",
   "metadata": {},
   "source": [
    "# Modèles de Machine Learning\n",
    "\n",
    "Avant de lancer de grandes expériences, il faut se construire une base de travail solide en étudiant les questions suivantes:\n",
    "\n",
    "- Combien de temps ça prend d'apprendre un classifieur NB/SVM/RegLog sur ces données en fonction de la taille du vocabulaire?\n",
    "- La validation croisée est-elle nécessaire? Est ce qu'on obtient les mêmes résultats avec un simple *split*?\n",
    "- La validation croisée est-elle stable? A partir de combien de fold (travailler avec différentes graines aléatoires et faire des statistiques basiques)?"
   ]
  },
  {
   "cell_type": "code",
   "execution_count": 97,
   "metadata": {},
   "outputs": [
    {
     "ename": "ValueError",
     "evalue": "Found input variables with inconsistent numbers of samples: [57413, 40189]",
     "output_type": "error",
     "traceback": [
      "\u001b[1;31m---------------------------------------------------------------------------\u001b[0m",
      "\u001b[1;31mValueError\u001b[0m                                Traceback (most recent call last)",
      "Cell \u001b[1;32mIn [97], line 9\u001b[0m\n\u001b[0;32m      7\u001b[0m \u001b[39m#Naïve Bayes\u001b[39;00m\n\u001b[0;32m      8\u001b[0m nb_clf \u001b[39m=\u001b[39m MultinomialNB()\n\u001b[1;32m----> 9\u001b[0m nb_clf\u001b[39m.\u001b[39;49mfit(X1, trainlabs)\n\u001b[0;32m     11\u001b[0m \u001b[39m#Logistic Regression\u001b[39;00m\n\u001b[0;32m     12\u001b[0m lr_clf \u001b[39m=\u001b[39m LogisticRegression(random_state\u001b[39m=\u001b[39m\u001b[39m0\u001b[39m, solver\u001b[39m=\u001b[39m\u001b[39m'\u001b[39m\u001b[39mlbfgs\u001b[39m\u001b[39m'\u001b[39m,n_jobs\u001b[39m=\u001b[39m\u001b[39m-\u001b[39m\u001b[39m1\u001b[39m)\n",
      "File \u001b[1;32m~\\AppData\\Local\\Packages\\PythonSoftwareFoundation.Python.3.10_qbz5n2kfra8p0\\LocalCache\\local-packages\\Python310\\site-packages\\sklearn\\naive_bayes.py:699\u001b[0m, in \u001b[0;36m_BaseDiscreteNB.fit\u001b[1;34m(self, X, y, sample_weight)\u001b[0m\n\u001b[0;32m    679\u001b[0m \u001b[39mdef\u001b[39;00m \u001b[39mfit\u001b[39m(\u001b[39mself\u001b[39m, X, y, sample_weight\u001b[39m=\u001b[39m\u001b[39mNone\u001b[39;00m):\n\u001b[0;32m    680\u001b[0m     \u001b[39m\"\"\"Fit Naive Bayes classifier according to X, y.\u001b[39;00m\n\u001b[0;32m    681\u001b[0m \n\u001b[0;32m    682\u001b[0m \u001b[39m    Parameters\u001b[39;00m\n\u001b[1;32m   (...)\u001b[0m\n\u001b[0;32m    697\u001b[0m \u001b[39m        Returns the instance itself.\u001b[39;00m\n\u001b[0;32m    698\u001b[0m \u001b[39m    \"\"\"\u001b[39;00m\n\u001b[1;32m--> 699\u001b[0m     X, y \u001b[39m=\u001b[39m \u001b[39mself\u001b[39;49m\u001b[39m.\u001b[39;49m_check_X_y(X, y)\n\u001b[0;32m    700\u001b[0m     _, n_features \u001b[39m=\u001b[39m X\u001b[39m.\u001b[39mshape\n\u001b[0;32m    702\u001b[0m     labelbin \u001b[39m=\u001b[39m LabelBinarizer()\n",
      "File \u001b[1;32m~\\AppData\\Local\\Packages\\PythonSoftwareFoundation.Python.3.10_qbz5n2kfra8p0\\LocalCache\\local-packages\\Python310\\site-packages\\sklearn\\naive_bayes.py:553\u001b[0m, in \u001b[0;36m_BaseDiscreteNB._check_X_y\u001b[1;34m(self, X, y, reset)\u001b[0m\n\u001b[0;32m    551\u001b[0m \u001b[39mdef\u001b[39;00m \u001b[39m_check_X_y\u001b[39m(\u001b[39mself\u001b[39m, X, y, reset\u001b[39m=\u001b[39m\u001b[39mTrue\u001b[39;00m):\n\u001b[0;32m    552\u001b[0m     \u001b[39m\"\"\"Validate X and y in fit methods.\"\"\"\u001b[39;00m\n\u001b[1;32m--> 553\u001b[0m     \u001b[39mreturn\u001b[39;00m \u001b[39mself\u001b[39;49m\u001b[39m.\u001b[39;49m_validate_data(X, y, accept_sparse\u001b[39m=\u001b[39;49m\u001b[39m\"\u001b[39;49m\u001b[39mcsr\u001b[39;49m\u001b[39m\"\u001b[39;49m, reset\u001b[39m=\u001b[39;49mreset)\n",
      "File \u001b[1;32m~\\AppData\\Local\\Packages\\PythonSoftwareFoundation.Python.3.10_qbz5n2kfra8p0\\LocalCache\\local-packages\\Python310\\site-packages\\sklearn\\base.py:596\u001b[0m, in \u001b[0;36mBaseEstimator._validate_data\u001b[1;34m(self, X, y, reset, validate_separately, **check_params)\u001b[0m\n\u001b[0;32m    594\u001b[0m         y \u001b[39m=\u001b[39m check_array(y, input_name\u001b[39m=\u001b[39m\u001b[39m\"\u001b[39m\u001b[39my\u001b[39m\u001b[39m\"\u001b[39m, \u001b[39m*\u001b[39m\u001b[39m*\u001b[39mcheck_y_params)\n\u001b[0;32m    595\u001b[0m     \u001b[39melse\u001b[39;00m:\n\u001b[1;32m--> 596\u001b[0m         X, y \u001b[39m=\u001b[39m check_X_y(X, y, \u001b[39m*\u001b[39m\u001b[39m*\u001b[39mcheck_params)\n\u001b[0;32m    597\u001b[0m     out \u001b[39m=\u001b[39m X, y\n\u001b[0;32m    599\u001b[0m \u001b[39mif\u001b[39;00m \u001b[39mnot\u001b[39;00m no_val_X \u001b[39mand\u001b[39;00m check_params\u001b[39m.\u001b[39mget(\u001b[39m\"\u001b[39m\u001b[39mensure_2d\u001b[39m\u001b[39m\"\u001b[39m, \u001b[39mTrue\u001b[39;00m):\n",
      "File \u001b[1;32m~\\AppData\\Local\\Packages\\PythonSoftwareFoundation.Python.3.10_qbz5n2kfra8p0\\LocalCache\\local-packages\\Python310\\site-packages\\sklearn\\utils\\validation.py:1092\u001b[0m, in \u001b[0;36mcheck_X_y\u001b[1;34m(X, y, accept_sparse, accept_large_sparse, dtype, order, copy, force_all_finite, ensure_2d, allow_nd, multi_output, ensure_min_samples, ensure_min_features, y_numeric, estimator)\u001b[0m\n\u001b[0;32m   1074\u001b[0m X \u001b[39m=\u001b[39m check_array(\n\u001b[0;32m   1075\u001b[0m     X,\n\u001b[0;32m   1076\u001b[0m     accept_sparse\u001b[39m=\u001b[39maccept_sparse,\n\u001b[1;32m   (...)\u001b[0m\n\u001b[0;32m   1087\u001b[0m     input_name\u001b[39m=\u001b[39m\u001b[39m\"\u001b[39m\u001b[39mX\u001b[39m\u001b[39m\"\u001b[39m,\n\u001b[0;32m   1088\u001b[0m )\n\u001b[0;32m   1090\u001b[0m y \u001b[39m=\u001b[39m _check_y(y, multi_output\u001b[39m=\u001b[39mmulti_output, y_numeric\u001b[39m=\u001b[39my_numeric, estimator\u001b[39m=\u001b[39mestimator)\n\u001b[1;32m-> 1092\u001b[0m check_consistent_length(X, y)\n\u001b[0;32m   1094\u001b[0m \u001b[39mreturn\u001b[39;00m X, y\n",
      "File \u001b[1;32m~\\AppData\\Local\\Packages\\PythonSoftwareFoundation.Python.3.10_qbz5n2kfra8p0\\LocalCache\\local-packages\\Python310\\site-packages\\sklearn\\utils\\validation.py:387\u001b[0m, in \u001b[0;36mcheck_consistent_length\u001b[1;34m(*arrays)\u001b[0m\n\u001b[0;32m    385\u001b[0m uniques \u001b[39m=\u001b[39m np\u001b[39m.\u001b[39munique(lengths)\n\u001b[0;32m    386\u001b[0m \u001b[39mif\u001b[39;00m \u001b[39mlen\u001b[39m(uniques) \u001b[39m>\u001b[39m \u001b[39m1\u001b[39m:\n\u001b[1;32m--> 387\u001b[0m     \u001b[39mraise\u001b[39;00m \u001b[39mValueError\u001b[39;00m(\n\u001b[0;32m    388\u001b[0m         \u001b[39m\"\u001b[39m\u001b[39mFound input variables with inconsistent numbers of samples: \u001b[39m\u001b[39m%r\u001b[39;00m\u001b[39m\"\u001b[39m\n\u001b[0;32m    389\u001b[0m         \u001b[39m%\u001b[39m [\u001b[39mint\u001b[39m(l) \u001b[39mfor\u001b[39;00m l \u001b[39min\u001b[39;00m lengths]\n\u001b[0;32m    390\u001b[0m     )\n",
      "\u001b[1;31mValueError\u001b[0m: Found input variables with inconsistent numbers of samples: [57413, 40189]"
     ]
    }
   ],
   "source": [
    "from sklearn.naive_bayes import MultinomialNB\n",
    "from sklearn.linear_model import LogisticRegression\n",
    "from sklearn.svm import LinearSVC\n",
    "from sklearn.metrics import accuracy_score\n",
    "\n",
    "\n",
    "#Naïve Bayes\n",
    "nb_clf = MultinomialNB()\n",
    "nb_clf.fit(X1, trainlabs)\n",
    "\n",
    "#Logistic Regression\n",
    "lr_clf = LogisticRegression(random_state=0, solver='lbfgs',n_jobs=-1)\n",
    "lr_clf.fit(X1, trainlabs)\n",
    "\n",
    "#Linear SVM\n",
    "svm_clf = LinearSVC(random_state=0, tol=1e-5)\n",
    "svm_clf.fit(X1, trainlabs)\n",
    "\n",
    "#true = [pol for text,pol in test]\n",
    "#test_alltxts = [text for text,pol in test]\n",
    "X_test = X1.transform(testtxts)\n",
    "print(X_test[10])\n",
    "pred_nb = nb_clf.predict(X_test)\n",
    "pred_lr = lr_clf.predict(X_test)\n",
    "pred_svm = svm_clf.predict(X_test)\n",
    "\n",
    "\n",
    "#print(f\"Naïve Bayes accuracy: {accuracy_score(testlabs, pred_nb)}\")\n",
    "#print(f\"Logistic Regression accuracy: {accuracy_score(testlabs, pred_lr)}\")\n",
    "#print(f\"SVM accuracy: {accuracy_score(testlabs, pred_svm)}\")"
   ]
  },
  {
   "cell_type": "markdown",
   "metadata": {},
   "source": [
    "## Première campagne d'expériences\n",
    "\n",
    "Les techniques sur lesquelles nous travaillons étant sujettes au sur-apprentissage: trouver le paramètre de régularisation dans la documentation et optimiser ce paramètre au sens de la métrique qui vous semble la plus appropriée (cf question précédente)."
   ]
  },
  {
   "cell_type": "code",
   "execution_count": null,
   "metadata": {},
   "outputs": [],
   "source": []
  },
  {
   "cell_type": "markdown",
   "metadata": {},
   "source": [
    "## Equilibrage des données\n",
    "\n",
    "Un problème reconnu comme dur dans la communauté est celui de l'équilibrage des alllabs (*balance* en anglais). Que faire si les données sont à 80, 90 ou 99% dans une des alllabs?\n",
    "Le problème est dur mais fréquent; les solutions sont multiples mais on peut isoler 3 grandes familles de solution.\n",
    "\n",
    "1. Ré-équilibrer le jeu de données: supprimer des données dans la classe majoritaire et/ou sur-échantilloner la classe minoritaire.<BR>\n",
    "   $\\Rightarrow$ A vous de jouer pour cette technique\n",
    "1. Changer la formulation de la fonction de coût pour pénaliser plus les erreurs dans la classe minoritaire:\n",
    "soit une fonction $\\Delta$ mesurant les écarts entre $f(x_i)$ et $y_i$ \n",
    "$$C = \\sum_i  \\alpha_i \\Delta(f(x_i),y_i), \\qquad \\alpha_i = \\left\\{\n",
    "\\begin{array}{ll}\n",
    "1 & \\text{si } y_i \\in \\text{classe majoritaire}\\\\\n",
    "B>1 & \\text{si } y_i \\in \\text{classe minoritaire}\\\\\n",
    "\\end{array} \\right.$$\n",
    "<BR>\n",
    "   $\\Rightarrow$ Les SVM et d'autres approches sklearn possèdent des arguments pour régler $B$ ou $1/B$... Ces arguments sont utiles mais pas toujours suffisant.\n",
    "1. Courbe ROC et modification du biais. Une fois la fonction $\\hat y = f(x)$ apprise, il est possible de la *bidouiller* a posteriori: si toutes les prédictions $\\hat y$ sont dans une classe, on va introduire $b$ dans $\\hat y = f(x) + b$ et le faire varier jusqu'à ce qu'un des points change de classe. On peut ensuite aller de plus en plus loin.\n",
    "Le calcul de l'ensemble des scores associés à cette approche mène directement à la courbe ROC.\n",
    "\n",
    "**Note:** certains classifieurs sont intrinsèquement plus résistante au problème d'équilibrage, c'est par exemple le cas des techniques de gradient boosting que vous verrez l'an prochain."
   ]
  },
  {
   "cell_type": "code",
   "execution_count": 69,
   "metadata": {},
   "outputs": [
    {
     "name": "stdout",
     "output_type": "stream",
     "text": [
      "le ratio de 1 est : 86.89669587027329 %\n",
      "le ratio de (-1) est : 13.103304129726709 %\n",
      " --> vos classes son désequilibrées, votre classifieur prédit donc toujours la classe la plus courante avec un taux de précision élevé mais mauvais --> vous pouvez réchantillonner, ... bon après-midi\n",
      " on applique l'oversampling\n"
     ]
    }
   ],
   "source": [
    "### METHODE 1 - evaluate: cross validation with balanced set\n",
    "X = alltxts\n",
    "y = alllabs\n",
    "nb_1= []\n",
    "for i in y:\n",
    "    if i == 1:\n",
    "        nb_1.append(1)\n",
    "ratio = len(nb_1)/len(y)*100\n",
    "print(\"le ratio de 1 est :\",ratio,\"%\")\n",
    "print(\"le ratio de (-1) est :\", 100-ratio,\"%\")\n",
    "if ratio - (1-ratio) > 40:\n",
    "    print(\" --> vos classes son désequilibrées, votre classifieur prédit donc toujours la classe la plus courante avec un taux de précision élevé mais mauvais --> vous pouvez réchantillonner, ... bon après-midi\")\n",
    "    print(\" on applique l'oversampling\")\n"
   ]
  },
  {
   "cell_type": "code",
   "execution_count": null,
   "metadata": {},
   "outputs": [],
   "source": [
    "# lien pour le réquilibrage des données\n",
    "## https://imbalanced-learn.org/stable/over_sampling.html#naive-random-over-sampling\n",
    "\n"
   ]
  }
 ],
 "metadata": {
  "kernelspec": {
   "display_name": "Python 3",
   "language": "python",
   "name": "python3"
  },
  "language_info": {
   "codemirror_mode": {
    "name": "ipython",
    "version": 3
   },
   "file_extension": ".py",
   "mimetype": "text/x-python",
   "name": "python",
   "nbconvert_exporter": "python",
   "pygments_lexer": "ipython3",
   "version": "3.10.8"
  },
  "vscode": {
   "interpreter": {
    "hash": "9a626f063266738430b7240259e3bb9ac4f3aba9c6779ddc639ddf9b30bf21c2"
   }
  }
 },
 "nbformat": 4,
 "nbformat_minor": 2
}
