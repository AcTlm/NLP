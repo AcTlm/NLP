{
 "cells": [
  {
   "cell_type": "markdown",
   "metadata": {},
   "source": [
    "# Classification de documents : prise en main des outils\n",
    "\n",
    "Le but de ce TP est de classer des documents textuels... Dans un premier temps, nous allons vérifier le bon fonctionnement des outils sur des données jouets puis appliquer les concepts sur des données réelles.\n",
    "\n",
    "\n",
    "## Conception de la chaine de traitement\n",
    "Pour rappel, une chaine de traitement de documents classique est composée des étapes suivantes:\n",
    "1. Lecture des données et importation\n",
    "    - Dans le cadre de nos TP, nous faisons l'hypothèse que le alltxts tient en mémoire... Si ce n'est pas le cas, il faut alors ajouter des structures de données avec des buffers (*data-reader*), bien plus complexes à mettre en place.\n",
    "    - Le plus grand piège concerne l'encodage des données. Dans le TP... Pas (ou peu) de problème. Dans la vraie vie: il faut faire attention à toujours maitriser les formats d'entrée et de sortie.\n",
    "1. Traitement des données brutes paramétrique. Chaque traitement doit être activable ou desactivable + paramétrable si besoin.\n",
    "    - Enlever les informations *inutiles* : chiffre, ponctuations, majuscules, etc... <BR>\n",
    "    **L'utilité dépend de l'application!**\n",
    "    - Segmenter en mots (=*Tokenization*)\n",
    "    - Elimination des stop-words\n",
    "    - Stemming/lemmatisation (racinisation)\n",
    "    - Byte-pair encoding pour trouver les mots composés (e.g. Sorbonne Université, Ville de Paris, Premier Ministre, etc...)\n",
    "1. Traitement des données numériques\n",
    "    - Normalisation *term-frequency* / binarisation\n",
    "    - Normalisation *inverse document frequency*\n",
    "    - Elimination des mots rares, des mots trop fréquents\n",
    "    - Construction de critère de séparabilité pour éliminer des mots etc...\n",
    "1. Apprentissage d'un classifieur\n",
    "    - Choix du type de classifieur\n",
    "    - Réglage des paramètres du classifieur (régularisation, etc...)\n",
    "\n",
    "## Exploitation de la chaine de traitement\n",
    "\n",
    "On appelle cette étape la réalisation d'une campagne d'expériences: c'est le point clé que nous voulons traviller en TAL cette année.\n",
    "1. Il est impossible de tester toutes les combinaisons par rapport aux propositions ci-dessus... Il faut donc en éliminer un certain nombre.\n",
    "    - En discutant avec les experts métiers\n",
    "    - En faisant des tests préliminaires\n",
    "1. Après ce premier filtrage, il faut:\n",
    "    - Choisir une évaluation fiable et pas trop lente (validation croisée, leave-one-out, split apprentissage/test simple)\n",
    "    - Lancer des expériences en grand\n",
    "        - = *grid-search*\n",
    "        - parallèliser sur plusieurs machines\n",
    "        - savoir lancer sur un serveur et se déconnecter\n",
    "1. Collecter et analyser les résultats\n",
    "\n",
    "\n",
    "## Inférence\n",
    "\n",
    "L'inférence est ensuite très classique: la chaine de traitement optimale est apte à traiter de nouveaux documents\n",
    "\n",
    "# Etape 1: charger les données"
   ]
  },
  {
   "cell_type": "code",
   "execution_count": 52,
   "metadata": {},
   "outputs": [
    {
     "data": {
      "text/plain": [
       "'\\nimport nltk \\nfrom nltk import sent_tokenize\\nfrom nltk import word_tokenize'"
      ]
     },
     "execution_count": 52,
     "metadata": {},
     "output_type": "execute_result"
    }
   ],
   "source": [
    "\n",
    "from collections import Counter\n",
    "\n",
    "import numpy as np\n",
    "import matplotlib.pyplot as plt\n",
    "%matplotlib inline\n",
    "\n",
    "import codecs\n",
    "import re\n",
    "import os.path\n",
    "\n",
    "from sklearn.model_selection import train_test_split\n",
    "\"\"\"\n",
    "import nltk \n",
    "from nltk import sent_tokenize\n",
    "from nltk import word_tokenize\"\"\""
   ]
  },
  {
   "cell_type": "code",
   "execution_count": 53,
   "metadata": {},
   "outputs": [],
   "source": [
    "# Chargement des données:\n",
    "def load_pres(fname):\n",
    "    alltxts = []\n",
    "    alllabs = []\n",
    "    s=codecs.open(fname, 'r','utf-8') # pour régler le codage\n",
    "    while True:\n",
    "        txt = s.readline()\n",
    "        if(len(txt))<5:\n",
    "            break\n",
    "        #\n",
    "        lab = re.sub(r\"<[0-9]*:[0-9]*:(.)>.*\",\"\\\\1\",txt)\n",
    "        txt = re.sub(r\"<[0-9]*:[0-9]*:.>(.*)\",\"\\\\1\",txt)\n",
    "        if lab.count('M') >0:\n",
    "            alllabs.append(-1)\n",
    "        else: \n",
    "            alllabs.append(1)\n",
    "        alltxts.append(txt)\n",
    "    return alltxts,alllabs\n"
   ]
  },
  {
   "cell_type": "markdown",
   "metadata": {},
   "source": [
    "#### IMPORTER LES DEUX DATASET: test and test "
   ]
  },
  {
   "cell_type": "code",
   "execution_count": 89,
   "metadata": {},
   "outputs": [
    {
     "name": "stdout",
     "output_type": "stream",
     "text": [
      "la longueur du training data_set est de: 57413 57413\n",
      " Quand je dis chers amis, il ne s'agit pas là d'une formule diplomatique, mais de l'expression de ce que je ressens.\n",
      "\n",
      "1\n",
      " Je compte sur vous.\n",
      "\n",
      "1\n",
      "57413 57413\n",
      "la longueur du data_set test est de: 27162 27162\n",
      "<105:1> En répondant à votre invitation, en effectuant cette première visite d'Etat d'un Président français en Algérie depuis l'indépendance, j'ai conscience d'ouvrir avec vous un chapitre nouveau de notre histoire commune, le chapitre de la confiance, de l'estime, du respect mutuel, de l'amitié et de la solidarité.\n",
      "\n",
      "1\n",
      "<823:34> Dans cette perspective, je demanderai à une grande personnalité de l'industrie de me faire des propositions sur les moyens de renforcer la coopération scientifique et industrielle avec les pays émergents, les transferts de technologie vers ces pays et le financement de leur développement propre.\n",
      "\n",
      "1\n"
     ]
    }
   ],
   "source": [
    "#fname = \"ressources\\AFDpresidentutf8\\corpus.tache1.learn.utf8\"\n",
    "path_train= r\"C:\\Users\\actou\\OneDrive\\Documents\\IODAA\\ONTO-TAL\\TAL\\tuto_TAL-main\\notebooks\\ressources\\AFDpresidentutf8\\corpus.tache1.learn.utf8\"\n",
    "alltxts,alllabs = load_pres(path_train)\n",
    "\n",
    "print(\"la longueur du training data_set est de:\",len(alltxts),len(alllabs))\n",
    "print(alltxts[0])\n",
    "print(alllabs[0])\n",
    "print(alltxts[-1])\n",
    "print(alllabs[-1])\n",
    "\n",
    "print(len(alltxts),len(alllabs))\n",
    "\n",
    "path_test= r\"C:\\Users\\actou\\OneDrive\\Documents\\IODAA\\ONTO-TAL\\TAL\\tuto_TAL-main\\notebooks\\ressources\\AFDpresidentutf8\\corpus.tache1.test.utf8\"\n",
    "#text = open(\"ressources/AFDpresidentutf8/corpus.tache1.test.utf8\",encoding=\"utf-8\")\n",
    "test_alltxts,test_alllabs = load_pres(path_test)\n",
    "\n",
    "print(\"la longueur du data_set test est de:\",len(test_alltxts),len(test_alllabs))\n",
    "print(test_alltxts[0])\n",
    "print(test_alllabs[10])\n",
    "print(test_alltxts[-1])\n",
    "print(test_alllabs[1000])\n"
   ]
  },
  {
   "cell_type": "markdown",
   "metadata": {},
   "source": [
    "\n",
    "\n",
    "Vous devez tester, par exemple, les cas suivants:\n",
    "- transformation en minuscule ou pas\n",
    "- suppression de la ponctuation\n",
    "- transformation des mots entièrement en majuscule en marqueurs spécifiques\n",
    "- suppression des chiffres ou pas\n",
    "- conservation d'une partie du texte seulement (seulement la première ligne = titre, seulement la dernière ligne = résumé, ...)\n",
    "- stemming\n",
    "- ...\n",
    "\n",
    "\n",
    "Vérifier systématiquement sur un exemple ou deux le bon fonctionnement des méthodes sur deux documents (au moins un de chaque classe)."
   ]
  },
  {
   "cell_type": "code",
   "execution_count": 90,
   "metadata": {},
   "outputs": [],
   "source": [
    " from collections import Counter\n",
    "'''\n",
    "counter_train = Counter((x[1] for x in train_alltxts))\n",
    "counter_test = Counter((x[1] for x in test_alltxts))\n",
    "\n",
    "print(\"Number of train reviews : \", len(train_alltxts))\n",
    "print(\"----> # of positive : \", counter_train[1])\n",
    "print(\"----> # of negative : \", counter_train[0])\n",
    "print(\"\")\n",
    "print(train_alllabs[0])\n",
    "\n",
    "print(\"\")\n",
    "print(\"Number of test reviews : \",len(test_alllabs))\n",
    "print(\"----> # of positive : \", counter_test[1])\n",
    "print(\"----> # of negative : \", counter_test[0])\n",
    "\n",
    "print(\"\")\n",
    "print(test_alllabs[0])\n",
    "print(\"\")\n",
    "''' \n",
    "\n",
    "''' \n",
    "from sklearn.model_selection import train_test_split\n",
    "traintxts, testtxts, trainlabs, testlabs = train_test_split(train_alltxts, train_alllabs, test_size=0.3, random_state=0) \n",
    "print(len(traintxts))\n",
    "print(len(testtxts))\n",
    "\n",
    "'''\n",
    "traintxts = alltxts\n",
    "trainlabs = alllabs"
   ]
  },
  {
   "cell_type": "code",
   "execution_count": 56,
   "metadata": {},
   "outputs": [
    {
     "data": {
      "text/plain": [
       "' # Let\\'s plot the count of the 1000 most used words:\\npres_train=open(\"ressources/AFDpresidentutf8/alltxts.tache1.learn.utf8\")\\nlines_train=pres_train.readlines()\\npres_test=open(\"ressources/AFDpresidentutf8/alltxts.tache1.test.utf8\")\\nlines_test=pres_test.readlines()\\n\\nimport matplotlib.pyplot as plt\\n%matplotlib inline\\nfrom collections import Counter \\n\\nwc = Counter()\\nfor text,pol in lines_train+lines_train:\\n    wc.update(text.split(\" \"))\\n    \\nfreq = [f for w,f in wc.most_common(100)]\\n\\nplt.plot(freq[:100])\\nprint(wc.most_common(19)) ## enlever les 19 premiers \\n'"
      ]
     },
     "execution_count": 56,
     "metadata": {},
     "output_type": "execute_result"
    }
   ],
   "source": [
    "''' # Let's plot the count of the 1000 most used words:\n",
    "pres_train=open(\"ressources/AFDpresidentutf8/alltxts.tache1.learn.utf8\")\n",
    "lines_train=pres_train.readlines()\n",
    "pres_test=open(\"ressources/AFDpresidentutf8/alltxts.tache1.test.utf8\")\n",
    "lines_test=pres_test.readlines()\n",
    "\n",
    "import matplotlib.pyplot as plt\n",
    "%matplotlib inline\n",
    "from collections import Counter \n",
    "\n",
    "wc = Counter()\n",
    "for text,pol in lines_train+lines_train:\n",
    "    wc.update(text.split(\" \"))\n",
    "    \n",
    "freq = [f for w,f in wc.most_common(100)]\n",
    "\n",
    "plt.plot(freq[:100])\n",
    "print(wc.most_common(19)) ## enlever les 19 premiers \n",
    "'''"
   ]
  },
  {
   "cell_type": "markdown",
   "metadata": {},
   "source": [
    "### 3 - Transformation paramétrique du texte\n",
    "- 1 - Supprimer la ponctuation \n",
    "- 2 - Mettre en minuscule \\\n",
    "- 3 - Supprimer les nombres # semble inutile pour les nombres \n",
    "- 4 - Supprimer les accents \n",
    "- 5 - Normaliser les caractères "
   ]
  },
  {
   "cell_type": "code",
   "execution_count": 91,
   "metadata": {},
   "outputs": [
    {
     "name": "stdout",
     "output_type": "stream",
     "text": [
      "[' quand je dis chers amis il ne sagit pas la dune formule diplomatique mais de lexpression de ce que je ressens\\n']\n",
      "57413\n"
     ]
    }
   ],
   "source": [
    "import string\n",
    "import re\n",
    "import unicodedata\n",
    "def pretraitement(string):\n",
    "    punc = '''!()-[]{};:'\"\\,<>./?@#$%^&*_~'''\n",
    "    for element in string:  \n",
    "        if element in punc:  \n",
    "            string = string.replace(element, \"\") \n",
    "            string = string.lower()\n",
    "            string = re.sub('[0-9]+', '', string)\n",
    "            string = unicodedata.normalize('NFD',string).encode('ascii', 'ignore').decode(\"utf-8\")\n",
    "    return string\n",
    "    \n",
    "traintxts= [pretraitement(i) for i in alltxts]\n",
    "print(traintxts[:1]) # cleaned list\n",
    "print(len(traintxts))"
   ]
  },
  {
   "cell_type": "markdown",
   "metadata": {},
   "source": [
    "### 4 - Extraction du vocabulaire\n",
    "\n",
    "Exploration préliminaire des jeux de données.\n",
    "\n",
    "- 1- Quelle est la taille d'origine du vocabulaire?\n",
    "- 2-  Que reste-t-il si on ne garde que les 100 mots les plus fréquents? [word cloud]\n",
    "- 3 - Quels sont les 100 mots dont la fréquence documentaire est la plus grande? [word cloud]\n",
    "- 4 - Quels sont les 100 mots les plus discriminants au sens de odds ratio? [word cloud]\n",
    "- 5 - Quelle est la distribution d'apparition des mots (Zipf)\n",
    "- 6 -Quels sont les 100 bigrammes/trigrammes les plus fréquents?"
   ]
  },
  {
   "cell_type": "code",
   "execution_count": 92,
   "metadata": {},
   "outputs": [
    {
     "name": "stdout",
     "output_type": "stream",
     "text": [
      "la taille du dico 32011\n"
     ]
    }
   ],
   "source": [
    "from collections import Counter\n",
    "word=[]\n",
    "for sentence in traintxts:\n",
    "        word += sentence.split()\n",
    "\n",
    "dico = Counter(word)       \n",
    "print(\"la taille du dico\",len(dico))\n",
    "\n",
    "trans = dict(zip(list(dico.keys()), np.arange(len(dico)).tolist()))\n",
    "#print(trans)\n",
    "\n",
    "from scipy.sparse import coo_matrix\n",
    "\n",
    "d = np.zeros(len(trans))\n",
    "for m in word:\n",
    "    d[trans[m]] += 1\n",
    "ds = coo_matrix(d)\n",
    "#print(ds[10])"
   ]
  },
  {
   "cell_type": "markdown",
   "metadata": {},
   "source": [
    "###  2 - Mots les plus fréquents (quel nombre choisir?)"
   ]
  },
  {
   "cell_type": "code",
   "execution_count": 81,
   "metadata": {},
   "outputs": [
    {
     "data": {
      "text/plain": [
       "Text(0.5, 1.0, '100 mots les plus frequents')"
      ]
     },
     "execution_count": 81,
     "metadata": {},
     "output_type": "execute_result"
    },
    {
     "data": {
      "image/png": "[encoded data removed]",
      "text/plain": [
       "<Figure size 640x480 with 1 Axes>"
      ]
     },
     "metadata": {},
     "output_type": "display_data"
    }
   ],
   "source": [
    "### Let's plot the count of the 1000 most used words:\n",
    "\n",
    "liste_most_common=[mot for mot,freq in dico.most_common(50)]\n",
    "liste_freq= [freq for mot,freq in dico.most_common(50)]\n",
    "plt.plot(liste_freq[:100],color='red')\n",
    "plt.title('100 mots les plus frequents')\n"
   ]
  },
  {
   "cell_type": "code",
   "execution_count": 93,
   "metadata": {},
   "outputs": [
    {
     "name": "stdout",
     "output_type": "stream",
     "text": [
      "57413\n"
     ]
    }
   ],
   "source": [
    "traintxts2=[]\n",
    "for sentence in traintxts: \n",
    "    mots = sentence.split()\n",
    "    for mot in mots:\n",
    "        if mot in liste_most_common:\n",
    "            mots.remove(mot)\n",
    "    new_phrase=\" \".join(mots)\n",
    "    traintxts2.append(new_phrase)\n",
    "\n",
    "#print(traintxts2[:100])\n",
    "\n",
    "traintxts = traintxts2\n",
    "print(len(traintxts))"
   ]
  },
  {
   "cell_type": "code",
   "execution_count": null,
   "metadata": {},
   "outputs": [],
   "source": [
    "\n",
    "# CountVectorizer can take a list of stop words as argument.\n",
    "# Build or download a list of stop word (from NLTK for exemple)\n",
    "#stop_words = [\"the\", \"a\", \"and\"] #Make a better list\n",
    "#stop_words = [w for w , n in wc.most_common(19)] ### rmv les stopwords\n",
    "\n",
    "from sklearn.feature_extraction.text import CountVectorizer\n",
    "\n",
    "vectorizer_1  = CountVectorizer(stop_words=liste_most_common)\n",
    "X1= vectorizer_1.fit_transform(traintxts)\n",
    "print(vectorizer_1.get_feature_names()[:100]) # we only print a few\n",
    "dic_size = np.shape(X1.toarray()[1])\n",
    "#print(X4.toarray())\n",
    "#print(X4.shape)\n",
    "#print(len(alllabs))\n",
    "print(\" \")\n",
    "print(\"Supprimer les stop word (500 mots les plus frequents\")\n",
    "print(\"    --> la taille du dictionnaire est\",dic_size)\n",
    "print(X1.shape)\n",
    "print(\"la longueur de alllabs est\",len(alllabs))\n",
    "\n",
    "vectorizer_2  = CountVectorizer(max_df=0.005, min_df=7)\n",
    "X2= vectorizer_2.fit_transform(traintxts)\n",
    "dic_size = np.shape(X2.toarray()[1])\n",
    "print(\" \")\n",
    "print(\"Tester plusieurs valeurs de max_df et  min_df\")\n",
    "print(\"    --> Min.df = 7 et Max df = 0.005 --> la taille du dictionnaire est\",dic_size)\n",
    "\n",
    "vectorizer_3  = CountVectorizer(max_df=0.05, min_df=7)\n",
    "X3= vectorizer_3.fit_transform(traintxts)\n",
    "dic_size = np.shape(X3.toarray()[1])\n",
    "print(\" \")\n",
    "print(\"Tester plusieurs valeurs de max_df et  min_df\")\n",
    "print(\"    --> Min.df = 7 et Max df = 0.05 --> la taille du dictionnaire est\",dic_size)\n",
    "\n",
    "vectorizer_4  = CountVectorizer(max_df=0.005, min_df=15)\n",
    "X3= vectorizer_3.fit_transform(traintxts)\n",
    "dic_size = np.shape(X3.toarray()[1])\n",
    "print(\" \")\n",
    "print(\"Tester plusieurs valeurs de max_df et  min_df\")\n",
    "print(\"    --> Min.df = 15 et Max df = 0.005 --> la taille du dictionnaire est\",dic_size)\n",
    "\n",
    "vectorizer_4  = CountVectorizer(stop_words=stop_words,max_df=0.005, min_df=7)\n",
    "X4= vectorizer_4.fit_transform(traintxts)\n",
    "dic_size = np.shape(X4.toarray()[1])\n",
    "print(\" \")\n",
    "print(\"Enlever les stop_word + Tester valeurs de max_df et  min_df\")\n",
    "print(\"    --> Min.df = 7 et Max df = 0.005 --> la taille du dictionnaire est\",dic_size)\n"
   ]
  },
  {
   "cell_type": "markdown",
   "metadata": {},
   "source": [
    "Quels sont les 100 mots dont la fréquence documentaire est la plus grande? [word cloud]\n",
    "- Quels sont les 100 mots les plus discriminants au sens de odds ratio? [word cloud]\n",
    "- Quelle est la distribution d'apparition des mots (Zipf)\n",
    "- Quels sont les 100 bigrammes/trigrammes les plus fréquents?\n"
   ]
  },
  {
   "cell_type": "markdown",
   "metadata": {},
   "source": [
    "Question qui devient de plus en plus intéressante avec les approches modernes:\n",
    "est-il possible d'extraire des tri-grammes de lettres pour représenter nos documents?\n",
    "\n",
    "Quelle performances attendrent? Quels sont les avantages et les inconvénients d'une telle approche?"
   ]
  },
  {
   "cell_type": "markdown",
   "metadata": {},
   "source": [
    "# Modèles de Machine Learning\n",
    "\n",
    "Avant de lancer de grandes expériences, il faut se construire une base de travail solide en étudiant les questions suivantes:\n",
    "\n",
    "- Combien de temps ça prend d'apprendre un classifieur NB/SVM/RegLog sur ces données en fonction de la taille du vocabulaire?\n",
    "- La validation croisée est-elle nécessaire? Est ce qu'on obtient les mêmes résultats avec un simple *split*?\n",
    "- La validation croisée est-elle stable? A partir de combien de fold (travailler avec différentes graines aléatoires et faire des statistiques basiques)?"
   ]
  },
  {
   "cell_type": "code",
   "execution_count": 109,
   "metadata": {},
   "outputs": [
    {
     "name": "stdout",
     "output_type": "stream",
     "text": [
      "57413\n",
      "57413\n",
      "ACCURACY :\n",
      "    Naïve Bayes accuracy: 0.9076864124849773\n",
      "    Logistic Regression accuracy: 0.9190775608311706\n",
      "    SVM accuracy: 0.93421350565203\n",
      "RECALL :\n",
      "    Naïve Bayes : 0.9666265784726398\n",
      "    Logistic Regression 0.9924634195229505\n",
      "    SVM : 0.9883744237322108\n"
     ]
    }
   ],
   "source": [
    "from sklearn.naive_bayes import MultinomialNB\n",
    "from sklearn.linear_model import LogisticRegression\n",
    "from sklearn.svm import LinearSVC\n",
    "from sklearn.metrics import accuracy_score\n",
    "from sklearn.metrics import recall_score\n",
    "\n",
    "print(len(trainlabs))\n",
    "print(len(traintxts))\n",
    "\n",
    "\n",
    "#Naïve Bayes\n",
    "nb_clf = MultinomialNB()\n",
    "nb_clf.fit(X4, trainlabs)\n",
    "\n",
    "#Logistic Regression\n",
    "lr_clf = LogisticRegression(random_state=0, solver='lbfgs',n_jobs=-1)\n",
    "lr_clf.fit(X4, trainlabs)\n",
    "\n",
    "#Linear SVM\n",
    "svm_clf = LinearSVC(random_state=0, tol=1e-5)\n",
    "svm_clf.fit(X4, trainlabs)\n",
    "\n",
    "#true = [pol for text,pol in test]\n",
    "#test_alltxts = [text for text,pol in test]\n",
    "X_test = vectorizer_4.transform(traintxts)\n",
    "#print(X_test[10])\n",
    "pred_nb = nb_clf.predict(X_test)\n",
    "pred_lr = lr_clf.predict(X_test)\n",
    "pred_svm = svm_clf.predict(X_test)\n",
    "\n",
    "print (\"ACCURACY :\")\n",
    "print(f\"    Naïve Bayes accuracy: {accuracy_score(trainlabs, pred_nb)}\")\n",
    "print(f\"    Logistic Regression accuracy: {accuracy_score(trainlabs, pred_lr)}\")\n",
    "print(f\"    SVM accuracy: {accuracy_score(trainlabs, pred_svm)}\")\n",
    "\n",
    "print (\"RECALL :\")\n",
    "print(f\"    Naïve Bayes : {recall_score(alllabs, pred_nb)}\")\n",
    "print(f\"    Logistic Regression {recall_score(alllabs, pred_lr)}\")\n",
    "print(f\"    SVM : {recall_score(alllabs, pred_svm)}\")\n"
   ]
  },
  {
   "cell_type": "markdown",
   "metadata": {},
   "source": [
    "## Première campagne d'expériences\n",
    "\n",
    "Les techniques sur lesquelles nous travaillons étant sujettes au sur-apprentissage: trouver le paramètre de régularisation dans la documentation et optimiser ce paramètre au sens de la métrique qui vous semble la plus appropriée (cf question précédente)."
   ]
  },
  {
   "cell_type": "code",
   "execution_count": null,
   "metadata": {},
   "outputs": [],
   "source": []
  },
  {
   "cell_type": "markdown",
   "metadata": {},
   "source": [
    "## Equilibrage des données\n",
    "\n",
    "Un problème reconnu comme dur dans la communauté est celui de l'équilibrage des alllabs (*balance* en anglais). Que faire si les données sont à 80, 90 ou 99% dans une des alllabs?\n",
    "Le problème est dur mais fréquent; les solutions sont multiples mais on peut isoler 3 grandes familles de solution.\n",
    "\n",
    "1. Ré-équilibrer le jeu de données: supprimer des données dans la classe majoritaire et/ou sur-échantilloner la classe minoritaire.<BR>\n",
    "   $\\Rightarrow$ A vous de jouer pour cette technique\n",
    "1. Changer la formulation de la fonction de coût pour pénaliser plus les erreurs dans la classe minoritaire:\n",
    "soit une fonction $\\Delta$ mesurant les écarts entre $f(x_i)$ et $y_i$ \n",
    "$$C = \\sum_i  \\alpha_i \\Delta(f(x_i),y_i), \\qquad \\alpha_i = \\left\\{\n",
    "\\begin{array}{ll}\n",
    "1 & \\text{si } y_i \\in \\text{classe majoritaire}\\\\\n",
    "B>1 & \\text{si } y_i \\in \\text{classe minoritaire}\\\\\n",
    "\\end{array} \\right.$$\n",
    "<BR>\n",
    "   $\\Rightarrow$ Les SVM et d'autres approches sklearn possèdent des arguments pour régler $B$ ou $1/B$... Ces arguments sont utiles mais pas toujours suffisant.\n",
    "1. Courbe ROC et modification du biais. Une fois la fonction $\\hat y = f(x)$ apprise, il est possible de la *bidouiller* a posteriori: si toutes les prédictions $\\hat y$ sont dans une classe, on va introduire $b$ dans $\\hat y = f(x) + b$ et le faire varier jusqu'à ce qu'un des points change de classe. On peut ensuite aller de plus en plus loin.\n",
    "Le calcul de l'ensemble des scores associés à cette approche mène directement à la courbe ROC.\n",
    "\n",
    "**Note:** certains classifieurs sont intrinsèquement plus résistante au problème d'équilibrage, c'est par exemple le cas des techniques de gradient boosting que vous verrez l'an prochain."
   ]
  },
  {
   "cell_type": "code",
   "execution_count": 110,
   "metadata": {},
   "outputs": [
    {
     "name": "stdout",
     "output_type": "stream",
     "text": [
      "le ratio de 1 est : 86.89669587027329 %\n",
      "le ratio de (-1) est : 13.103304129726709 %\n",
      " --> vos classes son désequilibrées, votre classifieur prédit donc toujours la classe la plus courante avec un taux de précision élevé mais mauvais --> vous pouvez réchantillonner, ... bon après-midi\n",
      " on applique l'oversampling\n"
     ]
    }
   ],
   "source": [
    "### METHODE 1 - evaluate: cross validation with balanced set\n",
    "X = alltxts\n",
    "y = alllabs\n",
    "nb_1= []\n",
    "for i in y:\n",
    "    if i == 1:\n",
    "        nb_1.append(1)\n",
    "ratio = len(nb_1)/len(y)*100\n",
    "print(\"le ratio de 1 est :\",ratio,\"%\")\n",
    "print(\"le ratio de (-1) est :\", 100-ratio,\"%\")\n",
    "if ratio - (1-ratio) > 40:\n",
    "    print(\" --> vos classes son désequilibrées, votre classifieur prédit donc toujours la classe la plus courante avec un taux de précision élevé mais mauvais --> vous pouvez réchantillonner, ... bon après-midi\")\n",
    "    print(\" on applique l'oversampling\")"
   ]
  },
  {
   "cell_type": "code",
   "execution_count": null,
   "metadata": {},
   "outputs": [],
   "source": [
    "# lien pour le réquilibrage des données\n",
    "## https://imbalanced-learn.org/stable/over_sampling.html#naive-random-over-sampling\n",
    "\n"
   ]
  }
 ],
 "metadata": {
  "kernelspec": {
   "display_name": "Python 3",
   "language": "python",
   "name": "python3"
  },
  "language_info": {
   "codemirror_mode": {
    "name": "ipython",
    "version": 3
   },
   "file_extension": ".py",
   "mimetype": "text/x-python",
   "name": "python",
   "nbconvert_exporter": "python",
   "pygments_lexer": "ipython3",
   "version": "3.10.8"
  },
  "vscode": {
   "interpreter": {
    "hash": "9a626f063266738430b7240259e3bb9ac4f3aba9c6779ddc639ddf9b30bf21c2"
   }
  }
 },
 "nbformat": 4,
 "nbformat_minor": 2
}
