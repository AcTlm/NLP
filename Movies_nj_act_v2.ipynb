{
 "cells": [
  {
   "cell_type": "code",
   "execution_count": null,
   "metadata": {},
   "outputs": [],
   "source": [
    "import numpy as np\n",
    "import matplotlib.pyplot as plt\n",
    "\n",
    "import codecs\n",
    "import re\n",
    "import os.path"
   ]
  },
  {
   "cell_type": "code",
   "execution_count": null,
   "metadata": {},
   "outputs": [],
   "source": [
    "def load_movies(path2data): # 1 classe par répertoire\n",
    "    allmovtxts = [] # init vide\n",
    "    allmovlabs = []\n",
    "    cpt = -1\n",
    "    for cl in os.listdir(path2data): # parcours des fichiers d'un répertoire\n",
    "        for f in os.listdir(path2data+cl):\n",
    "            movtxt = open(path2data+cl+'/'+f).read()\n",
    "            allmovtxts.append(movtxt)\n",
    "            allmovlabs.append(cpt)\n",
    "        cpt+=2 # chg répertoire = cht classe\n",
    "        \n",
    "    return allmovtxts,allmovlabs\n",
    "\n",
    "\n",
    "def load_movietest(testfile):\n",
    "    realmovtesttxts = []\n",
    "    realmovtestlabs = []\n",
    "    s=codecs.open(testfile, 'r','utf-8') \n",
    "    rmt=s.read()\n",
    "    rmtt=rmt.split('\\n')\n",
    "    realmovtesttxts=np.array(rmtt)\n",
    "    print(len(realmovtesttxts))\n",
    "    realmovtestlabs=[0]*len(realmovtesttxts)\n",
    "    return realmovtesttxts,realmovtestlabs\n"
   ]
  },
  {
   "cell_type": "code",
   "execution_count": null,
   "metadata": {},
   "outputs": [
    {
     "name": "stdout",
     "output_type": "stream",
     "text": [
      "25001\n"
     ]
    }
   ],
   "source": [
    "path = \"C:/Users/jacqueno/Documents/IODAA/Cours_IODAA/cours_ONTOTAL/TAL/tuto_TAL-main/notebooks/ressources/movies/movies1000/\"\n",
    "testfile=\"C:/Users/jacqueno/Documents/IODAA/Cours_IODAA/cours_ONTOTAL/TAL/tuto_TAL-main/notebooks/ressources/movies/testSentiment.txt\"\n",
    "\n",
    "allmovtxts,allmovlabs = load_movies(path)\n",
    "realmovtesttxts,realmovtestlabs=load_movietest(testfile)\n",
    "\n"
   ]
  },
  {
   "cell_type": "code",
   "execution_count": null,
   "metadata": {},
   "outputs": [
    {
     "name": "stdout",
     "output_type": "stream",
     "text": [
      "2000 2000\n",
      "plot : two teen couples go to a church party , drink and then drive . \n",
      "they get into an accident . \n",
      "one of the guys dies , but his girlfriend continues to see him in her life , and has nightmares . \n",
      "what's the deal ? \n",
      "watch the movie and \" sorta \" find out . . . \n",
      "critique : a mind-fuck movie for the teen generation that touches on a very cool idea , but presents it in a very bad package . \n",
      "which is what makes this review an even harder one to write , since i generally applaud films which attempt to break the mold , mess with your head and such ( lost highway & memento ) , but there are good and bad ways of making all types of films , and these folks just didn't snag this one correctly . \n",
      "they seem to have taken this pretty neat concept , but executed it terribly . \n",
      "so what are the problems with the movie ? \n",
      "well , its main problem is that it's simply too jumbled . \n",
      "it starts off \" normal \" but then downshifts into this \" fantasy \" world in which you , as an audience member , have no idea what's going on . \n",
      "there are dreams , there are characters coming back from the dead , there are others who look like the dead , there are strange apparitions , there are disappearances , there are a looooot of chase scenes , there are tons of weird things that happen , and most of it is simply not explained . \n",
      "now i personally don't mind trying to unravel a film every now and then , but when all it does is give me the same clue over and over again , i get kind of fed up after a while , which is this film's biggest problem . \n",
      "it's obviously got this big secret to hide , but it seems to want to hide it completely until its final five minutes . \n",
      "and do they make things entertaining , thrilling or even engaging , in the meantime ? \n",
      "not really . \n",
      "the sad part is that the arrow and i both dig on flicks like this , so we actually figured most of it out by the half-way point , so all of the strangeness after that did start to make a little bit of sense , but it still didn't the make the film all that more entertaining . \n",
      "i guess the bottom line with movies like this is that you should always make sure that the audience is \" into it \" even before they are given the secret password to enter your world of understanding . \n",
      "i mean , showing melissa sagemiller running away from visions for about 20 minutes throughout the movie is just plain lazy ! ! \n",
      "okay , we get it . . . there \n",
      "are people chasing her and we don't know who they are . \n",
      "do we really need to see it over and over again ? \n",
      "how about giving us different scenes offering further insight into all of the strangeness going down in the movie ? \n",
      "apparently , the studio took this film away from its director and chopped it up themselves , and it shows . \n",
      "there might've been a pretty decent teen mind-fuck movie in here somewhere , but i guess \" the suits \" decided that turning it into a music video with little edge , would make more sense . \n",
      "the actors are pretty good for the most part , although wes bentley just seemed to be playing the exact same character that he did in american beauty , only in a new neighborhood . \n",
      "but my biggest kudos go out to sagemiller , who holds her own throughout the entire film , and actually has you feeling her character's unraveling . \n",
      "overall , the film doesn't stick because it doesn't entertain , it's confusing , it rarely excites and it feels pretty redundant for most of its runtime , despite a pretty cool ending and explanation to all of the craziness that came before it . \n",
      "oh , and by the way , this is not a horror or teen slasher flick . . . it's \n",
      "just packaged to look that way because someone is apparently assuming that the genre is still hot with the kids . \n",
      "it also wrapped production two years ago and has been sitting on the shelves ever since . \n",
      "whatever . . . skip \n",
      "it ! \n",
      "where's joblo coming from ? \n",
      "a nightmare of elm street 3 ( 7/10 ) - blair witch 2 ( 7/10 ) - the crow ( 9/10 ) - the crow : salvation ( 4/10 ) - lost highway ( 10/10 ) - memento ( 10/10 ) - the others ( 9/10 ) - stir of echoes ( 8/10 ) \n",
      "\n",
      "-1\n",
      "truman ( \" true-man \" ) burbank is the perfect name for jim carrey's character in this film . \n",
      "president truman was an unassuming man who became known worldwide , in spite of ( or was it because of ) his stature . \n",
      " \" truman \" also recalls an era of plenty following a grim war , an era when planned communities built by government scientists promised an idyllic life for americans . \n",
      "and burbank , california , brings to mind the tonight show and the home of nbc . \n",
      "if hollywood is the center of the film world , burbank is , or was , the center of tv's world , the world where our protagonist lives . \n",
      "combine all these names and concepts into \" truman burbank , \" and you get something that well describes him and his artificial world . \n",
      "truman leads the perfect life . \n",
      "his town , his car , and his wife are picture perfect . \n",
      "his idea of reality comes under attack one day when a studio light falls from the sky . \n",
      "the radio explains that an overflying airplane started coming apart . \n",
      " . \n",
      " . \n",
      "but then why would an airplane be carrying a studio light ? \n",
      "the next day during the drive to work , the radio jams and he starts picking up a voice that exactly describes his movements . \n",
      "he is so distracted that he nearly hits a pedestrian . \n",
      "when the radio comes back to normal , the announcer warns listeners to drive carefully . \n",
      "his suspicion aroused , he wanders around the town square looking for other oddities . \n",
      "the world appears to be functioning properly until he enters an office building and tries to take the elevator . \n",
      "the elevator doors open up on a small lounge with people on coffee breaks . \n",
      "a grip sees truman him and quickly moves a paneled door , made to look like the back of an elevator , into place . \n",
      "two security guards grab him and throw him out . \n",
      "truman is really suspicious now . \n",
      "it gets even worse the next day when his wife , a nurse , describes an elevator accident in the building where he saw the lounge . \n",
      " \" it's best not to think about it , \" she says , trying vainly to change truman's memory . \n",
      "truman becomes determined to see who or what is behind this apparently elaborate hoax at his expense . \n",
      "at every turn he is stopped by an amazing coincidence that just happens to keep him in his own little town . \n",
      "his last hope is to quell his fear of the ocean and sail to the edge of the world . \n",
      "you know by now that truman's life is the subject of a television program . \n",
      "his actions are \" real \" but everything else is carefully scripted , from the death of his father to the choice of his wife . \n",
      "truman is determined to find out what the big hoax is . \n",
      "meanwhile , christof , the all-seeing creator of truman's world does his best to keep him unaware and happy . \n",
      "it's sort of like westworld told from the robots' point of view , or jurassic park from the dinosaurs' point of view . \n",
      "we root for the captive of the cage-world . \n",
      "our protagonist is counting on \" chaos theory \" to help him escape his elaborate trap . \n",
      "the story , written by andrew niccol ( writer/director of gattaca ) , introduces some interesting questions , such as the ethics of subjecting a person to this type of life , or the psychological impact of learning that your entire life has all been fake . \n",
      "although these questions came to mind , i don't think the film itself asked them . \n",
      "it certainly didn't address them or try to answer them . \n",
      "i was particularly disappointed that the film didn't deal more with the trauma of learning one's life is a tv show . \n",
      "carrey's performance at the end showed a smidgen of truman's pain , but i almost felt that he got over it too easily for the sake of the film's pacing . \n",
      "earlier in the movie i found myself wondering if it would be better for truman to find out the truth or whether i should root for him to be well . \n",
      "the two seemed exclusive of one another , but weir and niccol didn't see it that way . \n",
      "perhaps it's not fair to criticize a movie for what it isn't , but it seems like there were some missed opportunities here . \n",
      "but on its own terms , the movie is well made . \n",
      "sight , sound and pacing are all handled competently . \n",
      "much of the first part of the movie is the truman show . \n",
      "the scenes are all apparently shot from hidden cameras , with snoots and obstructions covering the corners of the screen . \n",
      "one hidden camera is apparently in his car radio , the green led numbers obscuring the lower part of the screen . \n",
      "the music is well-chosen and scored . \n",
      "the film opens with what sounds like family drama theme music , when truman's world is still beautiful and perfect . \n",
      "when the movie ends , the score sounds more like a frantic , driven , tangerine dream opus , while still keeping the same timbre . \n",
      "philip glass' epic music ( from powaqqatsi ) permeates truman's scenes of suspicion and awakening . \n",
      " ( glass has a small cameo as a keyboardist for the show . ) \n",
      "and the pacing of the story was brisk . \n",
      "there was no unnecessarily long setup explaining the concept behind the truman show , just a few quick title cards , a few interviews , and then right into the show , and the movie . \n",
      "one of the first scenes is of the studio light falling ; there was no token scene of truman's idyllic life before it falls apart , because it wasn't necessary , we pick up the story at the first sign of trouble , and no sooner . \n",
      "there's also no point in the movie where the plot slows down . \n",
      "it's a quick , straight shot to the movie's end . \n",
      "in terms of overall quality , i would compare the truman show to niccol's gattaca . \n",
      "both films are well made with interesting stories set in interesting worlds . \n",
      "but neither film really felt like it capitalized on all the great ideas ; neither film \" clicked \" and became an instant classic . \n",
      "nevertheless , i look forward to niccol's next film , whatever it may be . \n",
      "\n",
      "1\n",
      "25001 25001\n",
      "Story of a man who has unnatural feelings for a pig. Starts out with a opening scene that is a terrific example of absurd comedy. A formal orchestra audience is turned into an insane, violent mob by the crazy chantings of it's singers. Unfortunately it stays absurd the WHOLE time with no general narrative eventually making it just too off putting. Even those from the era should be turned off. The cryptic dialogue would make Shakespeare seem easy to a third grader. On a technical level it's better than you might think with some good cinematography by future great Vilmos Zsigmond. Future stars Sally Kirkland and Frederic Forrest can be seen briefly.\n",
      "0\n",
      "This is one of the dumbest films, I've ever seen. It rips off nearly ever type of thriller and manages to make a mess of them all.<br /><br />There's not a single good line or character in the whole mess. If there was a plot, it was an afterthought and as far as acting goes, there's nothing good to say so Ill say nothing. I honestly cant understand how this type of nonsense gets produced and actually released, does somebody somewhere not at some stage think, 'Oh my god this really is a load of shite' and call it a day. Its crap like this that has people downloading illegally, the trailer looks like a completely different film, at least if you have download it, you haven't wasted your time or money Don't waste your time, this is painful.\n",
      "0\n"
     ]
    }
   ],
   "source": [
    "print(len(allmovtxts),len(allmovlabs))\n",
    "print(allmovtxts[0])\n",
    "print(allmovlabs[0])\n",
    "print(allmovtxts[-1])\n",
    "print(allmovlabs[-1])\n",
    "\n",
    "print(len(realmovtesttxts),len(realmovtestlabs))\n",
    "print(realmovtesttxts[0])\n",
    "print(realmovtestlabs[0])\n",
    "print(realmovtesttxts[-2])\n",
    "print(realmovtestlabs[-2])"
   ]
  },
  {
   "cell_type": "markdown",
   "metadata": {},
   "source": [
    "# Transformation paramétrique du texte\n",
    "\n",
    "Vous devez tester, par exemple, les cas suivants:\n",
    "- transformation en minuscule ou pas\n",
    "- suppression de la ponctuation\n",
    "- transformation des mots entièrement en majuscule en marqueurs spécifiques\n",
    "- suppression des chiffres ou pas\n",
    "- conservation d'une partie du texte seulement (seulement la première ligne = titre, seulement la dernière ligne = résumé, ...)\n",
    "- stemming\n",
    "- ...\n",
    "\n",
    "\n",
    "Vérifier systématiquement sur un exemple ou deux le bon fonctionnement des méthodes sur deux documents (au moins un de chaque classe)."
   ]
  },
  {
   "cell_type": "code",
   "execution_count": null,
   "metadata": {},
   "outputs": [],
   "source": [
    "# import unicodedata\n",
    "# import string\n",
    "\n",
    "# punc = string.punctuation  \n",
    "# punc += '\\n\\r\\t'\n",
    "\n",
    "# for i in range(len(allmovtxts)):\n",
    "#     allmovtxts[i]= allmovtxts[i].lower()\n",
    "#     allmovtxts[i] = (allmovtxts[i]).translate(str.maketrans(punc, ' ' * len(punc)))  \n",
    "#     allmovtxts[i] = re.sub('[0-9]+', '', allmovtxts[i])\n",
    "#     allmovtxts[i] = unicodedata.normalize('NFD', allmovtxts[i]).encode('ascii', 'ignore').decode('utf-8')\n",
    "# print(allmovtxts[500])\n",
    "# print(allmovtxts[1500])\n",
    "\n",
    "\n",
    "# for i in range(len(realmovtesttxts)):\n",
    "#     realmovtesttxts[i]= realmovtesttxts[i].lower()\n",
    "#     realmovtesttxts[i] = (realmovtesttxts[i]).translate(str.maketrans(punc, ' ' * len(punc)))  \n",
    "#     realmovtesttxts[i] = re.sub('[0-9]+', '', realmovtesttxts[i])\n",
    "#     realmovtesttxts[i] = unicodedata.normalize('NFD', realmovtesttxts[i]).encode('ascii', 'ignore').decode('utf-8')\n",
    "# print(realmovtesttxts[500:502])\n"
   ]
  },
  {
   "cell_type": "code",
   "execution_count": null,
   "metadata": {},
   "outputs": [
    {
     "name": "stdout",
     "output_type": "stream",
     "text": [
      "1400\n",
      "600\n"
     ]
    }
   ],
   "source": [
    "# only one split between train/test\n",
    "from sklearn.model_selection import train_test_split\n",
    "\n",
    "traintxts, testtxts, trainlabs, testlabs = train_test_split(allmovtxts, allmovlabs, test_size=0.3, random_state=0) \n",
    "print(len(traintxts))\n",
    "print(len(testtxts))"
   ]
  },
  {
   "cell_type": "code",
   "execution_count": null,
   "metadata": {},
   "outputs": [],
   "source": []
  },
  {
   "cell_type": "markdown",
   "metadata": {},
   "source": [
    "# Extraction du vocabulaire\n",
    "\n",
    "Exploration préliminaire des jeux de données.\n",
    "\n",
    "- Quelle est la taille d'origine du vocabulaire?\n",
    "- Que reste-t-il si on ne garde que les 100 mots les plus fréquents? [word cloud]\n",
    "- Quels sont les 100 mots dont la fréquence documentaire est la plus grande? [word cloud]\n",
    "- Quels sont les 100 mots les plus discriminants au sens de odds ratio? [word cloud]\n",
    "- Quelle est la distribution d'apparition des mots (Zipf)\n",
    "- Quels sont les 100 bigrammes/trigrammes les plus fréquents?\n"
   ]
  },
  {
   "cell_type": "code",
   "execution_count": null,
   "metadata": {},
   "outputs": [
    {
     "name": "stdout",
     "output_type": "stream",
     "text": [
      "['00' '000' '0009f' '007' '00s' '03' '04' '05' '05425' '10' '100' '1000'\n",
      " '100m' '101' '102' '103' '104' '105' '106' '107']\n",
      "(34438,)\n",
      "[(',', 54045), ('the', 47729), ('.', 45894), ('a', 25713), ('and', 23621), ('of', 23343), ('to', 21775), ('is', 17424), ('in', 14011), ('\"', 12211), ('that', 10317), (')', 8165), ('(', 8109), ('it', 7315), ('as', 7213), ('with', 7186), ('for', 6553), ('film', 6213), ('his', 6182), ('this', 5529), ('\\nthe', 5419), ('are', 4831), ('on', 4790), ('but', 4723), ('he', 4257), ('be', 4178), ('by', 4147), ('i', 3856), ('an', 3843), ('movie', 3800), ('who', 3678), ('not', 3618), ('one', 3528), ('was', 3431), ('have', 3355), ('from', 3349), ('has', 3230), ('at', 3163), ('her', 3038), ('all', 2821), ('you', 2770), ('they', 2641), ('?', 2641), ('\\n', 2569), ('about', 2428), ('out', 2405), ('like', 2335), ('more', 2272), ('so', 2162), ('up', 2157), ('their', 2143), (':', 2127), ('which', 2097), ('or', 2043), ('just', 1943), ('some', 1935), ('into', 1837), ('him', 1825), ('what', 1806), ('when', 1806), ('than', 1699), ('only', 1672), (\"it's\", 1638), ('time', 1589), ('good', 1588), ('no', 1557), ('can', 1556), ('its', 1518), ('she', 1516), ('even', 1510), ('most', 1487), ('will', 1472), ('story', 1466), ('would', 1417), ('been', 1410), ('if', 1397), ('much', 1365), ('there', 1354), ('them', 1336), ('we', 1317), ('do', 1314), ('characters', 1311), (';', 1304), ('get', 1302), ('\\ni', 1298), ('very', 1296), ('other', 1290), ('character', 1281), ('\\nit', 1269), ('\\nbut', 1253), ('two', 1219), ('also', 1215), ('first', 1196), ('!', 1182), ('see', 1151), ('way', 1146), ('\\nthis', 1138), ('\\nand', 1117), ('\\nin', 1092), ('make', 1090)]\n",
      "[',' 'the' '.' 'a' 'and' 'of' 'to' 'is' 'in' '\"' 'that' ')' '(' 'it' 'as'\n",
      " 'with' 'for' 'film' 'his' 'this' '\\nthe' 'are' 'on' 'but' 'he' 'be' 'by'\n",
      " 'i' 'an' 'movie' 'who' 'not' 'one' 'was' 'have' 'from' 'has' 'at' 'her'\n",
      " 'all' 'you' 'they' '?' '\\n' 'about' 'out' 'like' 'more' 'so' 'up' 'their'\n",
      " ':' 'which' 'or' 'just' 'some' 'into' 'him' 'what' 'when' 'than' 'only'\n",
      " \"it's\" 'time' 'good' 'no' 'can' 'its' 'she' 'even' 'most' 'will' 'story'\n",
      " 'would' 'been' 'if' 'much' 'there' 'them' 'we' 'do' 'characters' ';'\n",
      " 'get' '\\ni' 'very' 'other' 'character' '\\nit' '\\nbut' 'two' 'also'\n",
      " 'first' '!' 'see' 'way' '\\nthis' '\\nand' '\\nin' 'make']\n",
      "100\n",
      "['00' '000' '0009f' '007' '00s' '03' '04' '05' '05425' '10' '100' '1000'\n",
      " '100m' '101' '102' '103' '104' '105' '106' '107']\n",
      "(34438,)\n",
      "['00' '000' '0009f' '007' '00s' '03' '04' '05' '05425' '10' '100' '1000'\n",
      " '100m' '101' '102' '103' '104' '105' '106' '107']\n",
      "(34358,)\n",
      "['137' '1969' '1976' '29' '94' 'abrasive' 'abrupt' 'abused' 'accolades'\n",
      " 'accomplishes' 'accuracy' 'achievements' 'actuality' 'adulthood'\n",
      " 'affects' 'afterward' 'aims' 'aircraft' 'alarm' 'allison']\n",
      "(818,)\n"
     ]
    },
    {
     "data": {
      "image/png": "[encoded data removed]",
      "text/plain": [
       "<Figure size 432x288 with 1 Axes>"
      ]
     },
     "metadata": {
      "needs_background": "light"
     },
     "output_type": "display_data"
    }
   ],
   "source": [
    "from sklearn.feature_extraction.text import CountVectorizer\n",
    "\n",
    "# vectorizer = CountVectorizer(input='content', encoding='utf-8',\n",
    "#                              decode_error='strict', strip_accents=None,\n",
    "#                              lowercase=True, preprocessor=None, tokenizer=None,\n",
    "#                              stop_words=None, token_pattern='(?u)\\b\\w\\w+\\b',\n",
    "#                              ngram_range=(1, 1), analyzer='word',\n",
    "#                              max_df=1.0, min_df=1, max_features=None,\n",
    "#                              vocabulary=None, binary=False, dtype='numpy.int64')\n",
    "\n",
    "# counvectorizer options par défaut : \n",
    "vectorizer_0 = CountVectorizer()\n",
    "Traintxts_0 = vectorizer_0.fit_transform(traintxts)\n",
    "print(vectorizer_0.get_feature_names_out()[:20]) # we only print a few\n",
    "dic_size = np.shape(Traintxts_0.toarray()[1])\n",
    "print(dic_size)\n",
    "\n",
    "# liste des mots les plus fréquents \n",
    "import matplotlib.pyplot as plt\n",
    "%matplotlib inline\n",
    "from collections import Counter\n",
    "wc = Counter()\n",
    "for word in (traintxts):\n",
    "    wc.update(word.split(\" \"))\n",
    "   \n",
    "freq = [f for w,f in wc.most_common(300)]\n",
    "plt.plot(freq[:300])\n",
    "print(wc.most_common(100))\n",
    "mostfreq=np.array((wc.most_common(100)))\n",
    "print(mostfreq[:,0])\n",
    "# définir la liste des 100 mots les plus fréquents pour les mettre dans stop words\n",
    "array_sw=mostfreq[:,0]\n",
    "list_sw=array_sw.tolist()\n",
    "print(len(list_sw))\n",
    "\n",
    "# Tester différents countvectorizers: enlever des stop words, jouer sur la taille du dictionnaire avec max_df  \n",
    "vectorizer_0 = CountVectorizer()\n",
    "Traintxts_0 = vectorizer_0.fit_transform(traintxts)\n",
    "print(vectorizer_0.get_feature_names_out()[:20]) # we only print a few\n",
    "dic_size = np.shape(Traintxts_0.toarray()[1])\n",
    "print(dic_size)\n",
    "\n",
    "vectorizer_1 = CountVectorizer(stop_words=list_sw) #enlever comme stopwords les 100 mots les plus fréquents\n",
    "Traintxts_1 = vectorizer_1.fit_transform(traintxts)\n",
    "print(vectorizer_1.get_feature_names_out()[:20]) # we only print a few\n",
    "dic_size = np.shape(Traintxts_1.toarray()[1])\n",
    "print(dic_size)\n",
    "\n",
    "vectorizer_2 = CountVectorizer(max_df=0.005, min_df=7) #tester plusieurs valeurs de max_df min_df\n",
    "Traintxts_2 = vectorizer_2.fit_transform(traintxts)\n",
    "dic_size = np.shape(Traintxts_2.toarray()[1])\n",
    "print(vectorizer_2.get_feature_names_out()[:20]) \n",
    "print(dic_size)"
   ]
  },
  {
   "cell_type": "markdown",
   "metadata": {},
   "source": [
    "Question qui devient de plus en plus intéressante avec les approches modernes:\n",
    "est-il possible d'extraire des tri-grammes de lettres pour représenter nos documents?\n",
    "\n",
    "Quelle performances attendrent? Quels sont les avantages et les inconvénients d'une telle approche?"
   ]
  },
  {
   "cell_type": "code",
   "execution_count": null,
   "metadata": {},
   "outputs": [],
   "source": []
  },
  {
   "cell_type": "markdown",
   "metadata": {},
   "source": [
    "# Modèles de Machine Learning\n",
    "\n",
    "Avant de lancer de grandes expériences, il faut se construire une base de travail solide en étudiant les questions suivantes:\n",
    "\n",
    "- Combien de temps ça prend d'apprendre un classifieur NB/SVM/RegLog sur ces données en fonction de la taille du vocabulaire?\n",
    "- La validation croisée est-elle nécessaire? Est ce qu'on obtient les mêmes résultats avec un simple *split*?\n",
    "- La validation croisée est-elle stable? A partir de combien de fold (travailler avec différentes graines aléatoires et faire des statistiques basiques)?"
   ]
  },
  {
   "cell_type": "code",
   "execution_count": null,
   "metadata": {},
   "outputs": [
    {
     "name": "stdout",
     "output_type": "stream",
     "text": [
      "Naïve Bayes accuracy: 0.825\n",
      "Logistic Regression accuracy: 0.8483333333333334\n",
      "SVM accuracy: 0.835\n",
      "Naïve Bayes recall: 0.8321917808219178\n",
      "Logistic Regression recall: 0.863013698630137\n",
      "SVM recall: 0.8424657534246576\n"
     ]
    }
   ],
   "source": [
    "from sklearn.naive_bayes import MultinomialNB\n",
    "from sklearn.linear_model import LogisticRegression\n",
    "from sklearn.svm import LinearSVC\n",
    "from sklearn.metrics import accuracy_score\n",
    "from sklearn.metrics import recall_score\n",
    "\n",
    "# from sklearn.model_selection import cross_val_score\n",
    "\n",
    "#Naïve Bayes\n",
    "nb_clf = MultinomialNB()\n",
    "nb_clf.fit(Traintxts_2, trainlabs)\n",
    "\n",
    "# #Logistic Regression\n",
    "lr_clf = LogisticRegression(random_state=0, solver='lbfgs',n_jobs=-1)\n",
    "lr_clf.fit(Traintxts_2, trainlabs)\n",
    "\n",
    "# #Linear SVM\n",
    "svm_clf = LinearSVC(random_state=0, tol=1e-5)\n",
    "svm_clf.fit(Traintxts_2, trainlabs)\n",
    "\n",
    "Testtxts = vectorizer_2.transform(testtxts)\n",
    "true=testlabs\n",
    "yhat_nb = nb_clf.predict(Testtxts)\n",
    "yhat_lr=lr_clf.predict(Testtxts) \n",
    "yhat_svm=svm_clf.predict(Testtxts)\n",
    "\n",
    "\n",
    "print(f\"Naïve Bayes accuracy: {accuracy_score(true, yhat_nb)}\")\n",
    "print(f\"Logistic Regression accuracy: {accuracy_score(true, yhat_lr)}\")\n",
    "print(f\"SVM accuracy: {accuracy_score(true, yhat_svm)}\")\n",
    "\n",
    "print(f\"Naïve Bayes recall: {recall_score(true, yhat_nb)}\")\n",
    "print(f\"Logistic Regression recall: {recall_score(true, yhat_lr)}\")\n",
    "print(f\"SVM recall: {recall_score(true, yhat_svm)}\")\n",
    "\n",
    "\n",
    "# print(true[:20])\n",
    "# print(yhat_nb[:20])\n",
    "# print(yhat_lr[:20])\n",
    "# print(yhat_svm[:20])\n"
   ]
  },
  {
   "cell_type": "markdown",
   "metadata": {},
   "source": [
    "## Première campagne d'expériences\n",
    "\n",
    "Les techniques sur lesquelles nous travaillons étant sujettes au sur-apprentissage: trouver le paramètre de régularisation dans la documentation et optimiser ce paramètre au sens de la métrique qui vous semble la plus appropriée (cf question précédente)."
   ]
  },
  {
   "cell_type": "code",
   "execution_count": null,
   "metadata": {},
   "outputs": [],
   "source": [
    "import copy\n",
    "\n",
    "# after selection of the classifier and performance on validation set, predict for Real test \n",
    "# Real_test = vectorizer_2.transform(realmovtesttxts)\n",
    "# ypred_real_test = nb_clf.predict(Real_test)\n",
    "# print(ypred_real_test[:100])\n",
    "# pred_real_test= ypred_real_test.astype(np.float)\n",
    "# lignes_positive=np.where(pred_real_test==1.0, 1, 0)\n",
    "# lignes_negative=np.where(pred_real_test==-1.0, 1, 0)\n",
    "# print(np.sum(lignes_positive))\n",
    "# print(np.sum(lignes_negative))\n",
    "# print(np.shape(realmovtestlabs)) \n",
    "# for i in range ((np.shape(realmovtesttxts)[0])-1):\n",
    "#     realmovtestlabs[i]=pred_real_test[i]\n",
    "# realmovtestlabs[25000]=0\n",
    "# print(realmovtestlabs[:20])\n",
    "# np.savetxt('test_movies_prediction.txt', realmovtestlabs)\n"
   ]
  },
  {
   "cell_type": "code",
   "execution_count": null,
   "metadata": {},
   "outputs": [],
   "source": []
  },
  {
   "cell_type": "code",
   "execution_count": null,
   "metadata": {},
   "outputs": [],
   "source": []
  }
 ],
 "metadata": {
  "kernelspec": {
   "display_name": "Python 3.8.5 ('base')",
   "language": "python",
   "name": "python3"
  },
  "language_info": {
   "codemirror_mode": {
    "name": "ipython",
    "version": 3
   },
   "file_extension": ".py",
   "mimetype": "text/x-python",
   "name": "python",
   "nbconvert_exporter": "python",
   "pygments_lexer": "ipython3",
   "version": "3.8.5"
  },
  "vscode": {
   "interpreter": {
    "hash": "03c74138f65fda4f13e2eb035cfb0d6d7eed03b0f2052faaae2fce898f81687d"
   }
  }
 },
 "nbformat": 4,
 "nbformat_minor": 2
}
